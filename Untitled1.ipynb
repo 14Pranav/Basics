{
  "nbformat": 4,
  "nbformat_minor": 0,
  "metadata": {
    "colab": {
      "name": "Untitled1.ipynb",
      "provenance": [],
      "authorship_tag": "ABX9TyO4MLuzGa5EENdFZKMJG9Jf",
      "include_colab_link": true
    },
    "kernelspec": {
      "name": "python3",
      "display_name": "Python 3"
    },
    "language_info": {
      "name": "python"
    }
  },
  "cells": [
    {
      "cell_type": "markdown",
      "metadata": {
        "id": "view-in-github",
        "colab_type": "text"
      },
      "source": [
        "<a href=\"https://colab.research.google.com/github/14Pranav/Basics/blob/main/Untitled1.ipynb\" target=\"_parent\"><img src=\"https://colab.research.google.com/assets/colab-badge.svg\" alt=\"Open In Colab\"/></a>"
      ]
    },
    {
      "cell_type": "code",
      "metadata": {
        "colab": {
          "base_uri": "https://localhost:8080/"
        },
        "id": "NL9FoeU-Wsl1",
        "outputId": "f26e46ed-38e0-4136-9cbc-36abad86a760"
      },
      "source": [
        "pip install bing-image-downloader"
      ],
      "execution_count": 1,
      "outputs": [
        {
          "output_type": "stream",
          "text": [
            "Collecting bing-image-downloader\n",
            "  Downloading https://files.pythonhosted.org/packages/0d/bf/537a61030b84ae4cd5022d5c7b014fd9bc3ce7c02358919153a6658a61d3/bing_image_downloader-1.0.4-py3-none-any.whl\n",
            "Installing collected packages: bing-image-downloader\n",
            "Successfully installed bing-image-downloader-1.0.4\n"
          ],
          "name": "stdout"
        }
      ]
    },
    {
      "cell_type": "code",
      "metadata": {
        "id": "pplV-ldsWz6p"
      },
      "source": [
        "mkdir imagesnew"
      ],
      "execution_count": 2,
      "outputs": []
    },
    {
      "cell_type": "code",
      "metadata": {
        "colab": {
          "base_uri": "https://localhost:8080/"
        },
        "id": "maqHPphhW4QS",
        "outputId": "e30af0f8-be8d-462d-c21d-e4e76200c308"
      },
      "source": [
        "from bing_image_downloader import downloader\n",
        "downloader.download(\"pretty sunflower\", limit=30,  output_dir='imagesnew', adult_filter_off=True)"
      ],
      "execution_count": 3,
      "outputs": [
        {
          "output_type": "stream",
          "text": [
            "\n",
            "\n",
            "[!!]Indexing page: 1\n",
            "\n",
            "[%] Indexed 13 Images on Page 1.\n",
            "\n",
            "===============================================\n",
            "\n",
            "[%] Downloading Image #1 from https://i.pinimg.com/736x/77/3f/e6/773fe6cd3196fa5240ccad71389f60d3.jpg\n",
            "[%] File Downloaded !\n",
            "\n",
            "[%] Downloading Image #2 from https://www.prettydesigns.com/wp-content/uploads/2014/11/Dreamcatcher-Tattoo-on-Wrist.jpg\n",
            "[%] File Downloaded !\n",
            "\n",
            "[%] Downloading Image #3 from https://i.pinimg.com/736x/dd/20/0c/dd200cd836acc855dd1d51c709c2a50b--giant-sunflower-sunflower-flower.jpg\n",
            "[%] File Downloaded !\n",
            "\n",
            "[%] Downloading Image #4 from https://i.pinimg.com/736x/51/7a/90/517a90573eeaea5861387b12b78ad09e.jpg\n",
            "[%] File Downloaded !\n",
            "\n",
            "[%] Downloading Image #5 from https://bestanimations.com/Nature/Flora/beautiful-flower-animated-gif5.gif\n",
            "[%] File Downloaded !\n",
            "\n",
            "[%] Downloading Image #6 from https://www.bing.com/th/id/OGC.e05f040180d53eea684e8bd417ae1906?pid=1.7&amp;rurl=https%3a%2f%2fbestanimations.com%2fNature%2fFlora%2fbeautiful-flower-animated-gif5.gif&amp;ehk=FWMOrkEwVVqVQndXaUXsKJz2LhLVP4p9ZdPMfcYbDfA%3d\n",
            "[!] Issue getting: https://www.bing.com/th/id/OGC.e05f040180d53eea684e8bd417ae1906?pid=1.7&amp;rurl=https%3a%2f%2fbestanimations.com%2fNature%2fFlora%2fbeautiful-flower-animated-gif5.gif&amp;ehk=FWMOrkEwVVqVQndXaUXsKJz2LhLVP4p9ZdPMfcYbDfA%3d\n",
            "[!] Error:: HTTP Error 404: Not Found\n",
            "[%] Downloading Image #6 from https://i.pinimg.com/736x/bb/cb/13/bbcb13a1b334fe5af84fea514b8a5d39.jpg\n",
            "[%] File Downloaded !\n",
            "\n",
            "[%] Downloading Image #7 from https://tattoomagz.com/wp-content/uploads/Tattoos/Three-cool-sunflower-tattoo.jpg\n",
            "[%] File Downloaded !\n",
            "\n",
            "[%] Downloading Image #8 from https://www.wallpapers13.com/wp-content/uploads/2015/12/Purple-flower-petals-macro-2560x1600.jpg\n",
            "[%] File Downloaded !\n",
            "\n",
            "[%] Downloading Image #9 from http://bit.ly/pAl5SM\n",
            "[%] File Downloaded !\n",
            "\n",
            "[%] Downloading Image #10 from https://i.pinimg.com/736x/4f/d0/30/4fd0304ca5cda7e425ede5bf87b9bf60--wolves-art-bald-eagle.jpg\n",
            "[%] File Downloaded !\n",
            "\n",
            "[%] Downloading Image #11 from https://www.wallpapers13.com/wp-content/uploads/2015/12/Pink-lotus-flowers-HD-wallpaper-4a-1920x1440.jpg\n",
            "[%] File Downloaded !\n",
            "\n",
            "[%] Downloading Image #12 from http://www.diyhowto.org/wp-content/uploads/2016/01/DIYHowto-20-DIY-Bookmark-Ideas-On-Pinterest-That-Are-Easy-to-Craft13-600x988.jpg\n",
            "[%] File Downloaded !\n",
            "\n",
            "\n",
            "\n",
            "[!!]Indexing page: 2\n",
            "\n",
            "[%] Indexed 13 Images on Page 2.\n",
            "\n",
            "===============================================\n",
            "\n",
            "[%] Downloading Image #13 from https://i.pinimg.com/736x/77/3f/e6/773fe6cd3196fa5240ccad71389f60d3.jpg\n",
            "[%] File Downloaded !\n",
            "\n",
            "[%] Downloading Image #14 from https://www.prettydesigns.com/wp-content/uploads/2014/11/Dreamcatcher-Tattoo-on-Wrist.jpg\n",
            "[%] File Downloaded !\n",
            "\n",
            "[%] Downloading Image #15 from https://i.pinimg.com/736x/dd/20/0c/dd200cd836acc855dd1d51c709c2a50b--giant-sunflower-sunflower-flower.jpg\n",
            "[%] File Downloaded !\n",
            "\n",
            "[%] Downloading Image #16 from https://i.pinimg.com/736x/51/7a/90/517a90573eeaea5861387b12b78ad09e.jpg\n",
            "[%] File Downloaded !\n",
            "\n",
            "[%] Downloading Image #17 from https://bestanimations.com/Nature/Flora/beautiful-flower-animated-gif5.gif\n",
            "[%] File Downloaded !\n",
            "\n",
            "[%] Downloading Image #18 from https://www.bing.com/th/id/OGC.e05f040180d53eea684e8bd417ae1906?pid=1.7&amp;rurl=https%3a%2f%2fbestanimations.com%2fNature%2fFlora%2fbeautiful-flower-animated-gif5.gif&amp;ehk=FWMOrkEwVVqVQndXaUXsKJz2LhLVP4p9ZdPMfcYbDfA%3d\n",
            "[!] Issue getting: https://www.bing.com/th/id/OGC.e05f040180d53eea684e8bd417ae1906?pid=1.7&amp;rurl=https%3a%2f%2fbestanimations.com%2fNature%2fFlora%2fbeautiful-flower-animated-gif5.gif&amp;ehk=FWMOrkEwVVqVQndXaUXsKJz2LhLVP4p9ZdPMfcYbDfA%3d\n",
            "[!] Error:: HTTP Error 404: Not Found\n",
            "[%] Downloading Image #18 from https://i.pinimg.com/736x/bb/cb/13/bbcb13a1b334fe5af84fea514b8a5d39.jpg\n",
            "[%] File Downloaded !\n",
            "\n",
            "[%] Downloading Image #19 from https://tattoomagz.com/wp-content/uploads/Tattoos/Three-cool-sunflower-tattoo.jpg\n",
            "[%] File Downloaded !\n",
            "\n",
            "[%] Downloading Image #20 from https://www.wallpapers13.com/wp-content/uploads/2015/12/Purple-flower-petals-macro-2560x1600.jpg\n",
            "[%] File Downloaded !\n",
            "\n",
            "[%] Downloading Image #21 from http://bit.ly/pAl5SM\n",
            "[%] File Downloaded !\n",
            "\n",
            "[%] Downloading Image #22 from https://i.pinimg.com/736x/4f/d0/30/4fd0304ca5cda7e425ede5bf87b9bf60--wolves-art-bald-eagle.jpg\n",
            "[%] File Downloaded !\n",
            "\n",
            "[%] Downloading Image #23 from https://www.wallpapers13.com/wp-content/uploads/2015/12/Pink-lotus-flowers-HD-wallpaper-4a-1920x1440.jpg\n",
            "[%] File Downloaded !\n",
            "\n",
            "[%] Downloading Image #24 from http://www.diyhowto.org/wp-content/uploads/2016/01/DIYHowto-20-DIY-Bookmark-Ideas-On-Pinterest-That-Are-Easy-to-Craft13-600x988.jpg\n",
            "[%] File Downloaded !\n",
            "\n",
            "\n",
            "\n",
            "[!!]Indexing page: 3\n",
            "\n",
            "[%] Indexed 11 Images on Page 3.\n",
            "\n",
            "===============================================\n",
            "\n",
            "[%] Downloading Image #25 from http://cooldigitalphotography.com/wp-content/uploads/2013/11/Sunflower10.jpg\n",
            "[%] File Downloaded !\n",
            "\n",
            "[%] Downloading Image #26 from http://ohbestdayever.com/wp-content/uploads/2017/12/rustic-sunflower-wedding-centerpiece-ideas-with-mason-jars.jpg\n",
            "[%] File Downloaded !\n",
            "\n",
            "[%] Downloading Image #27 from http://cooldigitalphotography.com/wp-content/uploads/2013/11/Sunflower9.jpg\n",
            "[%] File Downloaded !\n",
            "\n",
            "[%] Downloading Image #28 from https://ohbestdayever.com/wp-content/uploads/2017/12/chic-rustic-sunflower-wedding-centerpiece-ideas-with-lanterns.jpg\n",
            "[%] File Downloaded !\n",
            "\n",
            "[%] Downloading Image #29 from http://www.wallpapers13.com/wp-content/uploads/2015/12/Sunflower-Field-Wallpaper-Beautiful-Flowers-Pictures-Sunflower-Field-Wallpaper-1920x1440.jpg\n",
            "[%] File Downloaded !\n",
            "\n",
            "[%] Downloading Image #30 from http://pinteresting.involvery.com/wp-content/uploads/sites/15/2016/10/1252_1883327114-1.jpg\n",
            "[%] File Downloaded !\n",
            "\n",
            "\n",
            "\n",
            "[%] Done. Downloaded 30 images.\n",
            "\n",
            "===============================================\n",
            "\n"
          ],
          "name": "stdout"
        }
      ]
    },
    {
      "cell_type": "code",
      "metadata": {
        "colab": {
          "base_uri": "https://localhost:8080/"
        },
        "id": "VynGOl3VXCrN",
        "outputId": "6cede893-35d4-45fe-d6c2-c12195ccf8ad"
      },
      "source": [
        "from bing_image_downloader import downloader\n",
        "downloader.download(\"rugby ball leather\", limit=30,  output_dir='imagesnew', adult_filter_off=True)"
      ],
      "execution_count": 4,
      "outputs": [
        {
          "output_type": "stream",
          "text": [
            "\n",
            "\n",
            "[!!]Indexing page: 1\n",
            "\n",
            "[%] Indexed 12 Images on Page 1.\n",
            "\n",
            "===============================================\n",
            "\n",
            "[%] Downloading Image #1 from https://www.webbellisrugby.co.uk/wp-content/uploads/2016/04/leather-rugby-ball-puntabout.jpg\n",
            "[%] File Downloaded !\n",
            "\n",
            "[%] Downloading Image #2 from https://cdn.shopify.com/s/files/1/0226/2169/products/Naismith_2048x2048_V3_1024x1024.jpg?v=1556562051\n",
            "[%] File Downloaded !\n",
            "\n",
            "[%] Downloading Image #3 from http://4.bp.blogspot.com/-F3Bvwkp5WSc/UE38SD2VIJI/AAAAAAAAA1A/GjnIOyYI2js/s1600/test_cb_edited-1.jpg\n",
            "[%] File Downloaded !\n",
            "\n",
            "[%] Downloading Image #4 from https://images.antiquesatlas.com/dealer-stock-images/puckeringsantiques/Antique_Novelty_Travel_Inkwell_as584a1568z-1.jpg\n",
            "[%] File Downloaded !\n",
            "\n",
            "[%] Downloading Image #5 from https://static.vecteezy.com/system/resources/previews/000/345/144/original/realistic-detailed-football-vector-illustration.png\n",
            "[%] File Downloaded !\n",
            "\n",
            "[%] Downloading Image #6 from https://sc01.alicdn.com/kf/U6d3c8f99026b4f5c86ffa4c3a7eed2fcL/1096099/U6d3c8f99026b4f5c86ffa4c3a7eed2fcL.jpg\n",
            "[%] File Downloaded !\n",
            "\n",
            "[%] Downloading Image #7 from http://cdn.shopify.com/s/files/1/1492/1076/products/Lo_Res_Baby_Boxing_GLoves_Gold_112_800x.jpg?v=1552509319\n",
            "[%] File Downloaded !\n",
            "\n",
            "[%] Downloading Image #8 from https://1.bp.blogspot.com/_5DeO0c-n7js/SaHmjLnZWFI/AAAAAAAAABE/oOVbaGI0Y9I/s320/uniform.jpg\n",
            "[%] File Downloaded !\n",
            "\n",
            "[%] Downloading Image #9 from https://cdna.lystit.com/photos/2012/09/25/gant-rugger-blue-striped-cotton-rugby-shirt-product-2-4798466-416256992.jpeg\n",
            "[%] File Downloaded !\n",
            "\n",
            "[%] Downloading Image #10 from https://static.vecteezy.com/system/resources/previews/000/551/060/non_2x/american-football-vector-icon.jpg\n",
            "[%] File Downloaded !\n",
            "\n",
            "[%] Downloading Image #11 from https://www.makeaball.com/resources/theme_resource/mabcom.packaging.basketball.D.png\n",
            "[%] File Downloaded !\n",
            "\n",
            "[%] Downloading Image #12 from http://3o7tpx32lt6v2lcovs4a53lb.wpengine.netdna-cdn.com/wp-content/uploads/2015/03/Sham-shui-po-3.jpg\n",
            "[%] File Downloaded !\n",
            "\n",
            "\n",
            "\n",
            "[!!]Indexing page: 2\n",
            "\n",
            "[%] Indexed 12 Images on Page 2.\n",
            "\n",
            "===============================================\n",
            "\n",
            "[%] Downloading Image #13 from https://www.webbellisrugby.co.uk/wp-content/uploads/2016/04/leather-rugby-ball-puntabout.jpg\n",
            "[%] File Downloaded !\n",
            "\n",
            "[%] Downloading Image #14 from https://cdn.shopify.com/s/files/1/0226/2169/products/Naismith_2048x2048_V3_1024x1024.jpg?v=1556562051\n",
            "[%] File Downloaded !\n",
            "\n",
            "[%] Downloading Image #15 from http://4.bp.blogspot.com/-F3Bvwkp5WSc/UE38SD2VIJI/AAAAAAAAA1A/GjnIOyYI2js/s1600/test_cb_edited-1.jpg\n",
            "[%] File Downloaded !\n",
            "\n",
            "[%] Downloading Image #16 from https://images.antiquesatlas.com/dealer-stock-images/puckeringsantiques/Antique_Novelty_Travel_Inkwell_as584a1568z-1.jpg\n",
            "[%] File Downloaded !\n",
            "\n",
            "[%] Downloading Image #17 from https://static.vecteezy.com/system/resources/previews/000/345/144/original/realistic-detailed-football-vector-illustration.png\n",
            "[%] File Downloaded !\n",
            "\n",
            "[%] Downloading Image #18 from https://sc01.alicdn.com/kf/U6d3c8f99026b4f5c86ffa4c3a7eed2fcL/1096099/U6d3c8f99026b4f5c86ffa4c3a7eed2fcL.jpg\n",
            "[%] File Downloaded !\n",
            "\n",
            "[%] Downloading Image #19 from http://cdn.shopify.com/s/files/1/1492/1076/products/Lo_Res_Baby_Boxing_GLoves_Gold_112_800x.jpg?v=1552509319\n",
            "[%] File Downloaded !\n",
            "\n",
            "[%] Downloading Image #20 from https://1.bp.blogspot.com/_5DeO0c-n7js/SaHmjLnZWFI/AAAAAAAAABE/oOVbaGI0Y9I/s320/uniform.jpg\n",
            "[%] File Downloaded !\n",
            "\n",
            "[%] Downloading Image #21 from https://cdna.lystit.com/photos/2012/09/25/gant-rugger-blue-striped-cotton-rugby-shirt-product-2-4798466-416256992.jpeg\n",
            "[%] File Downloaded !\n",
            "\n",
            "[%] Downloading Image #22 from https://static.vecteezy.com/system/resources/previews/000/551/060/non_2x/american-football-vector-icon.jpg\n",
            "[%] File Downloaded !\n",
            "\n",
            "[%] Downloading Image #23 from https://www.makeaball.com/resources/theme_resource/mabcom.packaging.basketball.D.png\n",
            "[%] File Downloaded !\n",
            "\n",
            "[%] Downloading Image #24 from http://3o7tpx32lt6v2lcovs4a53lb.wpengine.netdna-cdn.com/wp-content/uploads/2015/03/Sham-shui-po-3.jpg\n",
            "[%] File Downloaded !\n",
            "\n",
            "\n",
            "\n",
            "[!!]Indexing page: 3\n",
            "\n",
            "[%] Indexed 11 Images on Page 3.\n",
            "\n",
            "===============================================\n",
            "\n",
            "[%] Downloading Image #25 from http://clipart-library.com/image_gallery/n1570522.png\n",
            "[%] File Downloaded !\n",
            "\n",
            "[%] Downloading Image #26 from https://www.john-woodbridge.com/1020-tm_thickbox_default/1950s-football.jpg\n",
            "[%] File Downloaded !\n",
            "\n",
            "[%] Downloading Image #27 from https://img0.etsystatic.com/000/0/5219063/il_fullxfull.22734302.jpg\n",
            "[%] File Downloaded !\n",
            "\n",
            "[%] Downloading Image #28 from https://resources.stuff.co.nz/content/dam/images/1/c/m/1/z/u/image.related.StuffLandscapeSixteenByNine.1420x800.1cm0lm.png/1467325338558.jpg\n",
            "[%] File Downloaded !\n",
            "\n",
            "[%] Downloading Image #29 from https://cdn.shopify.com/s/files/1/0226/2169/products/Teak_Basketball_02_1024x1024.jpg?v=1568214929\n",
            "[%] File Downloaded !\n",
            "\n",
            "[%] Downloading Image #30 from https://static.vecteezy.com/system/resources/previews/000/094/728/original/rugby-pitch-vector.jpg\n",
            "[%] File Downloaded !\n",
            "\n",
            "\n",
            "\n",
            "[%] Done. Downloaded 30 images.\n",
            "\n",
            "===============================================\n",
            "\n"
          ],
          "name": "stdout"
        }
      ]
    },
    {
      "cell_type": "code",
      "metadata": {
        "colab": {
          "base_uri": "https://localhost:8080/"
        },
        "id": "UqsnZk_TXJnF",
        "outputId": "8c41b769-f54d-4d1e-9e0d-31a66ba108e0"
      },
      "source": [
        "from bing_image_downloader import downloader\n",
        "downloader.download(\"ice cream cone\", limit=30,  output_dir='imagesnew', adult_filter_off=True)"
      ],
      "execution_count": 5,
      "outputs": [
        {
          "output_type": "stream",
          "text": [
            "\n",
            "\n",
            "[!!]Indexing page: 1\n",
            "\n",
            "[%] Indexed 12 Images on Page 1.\n",
            "\n",
            "===============================================\n",
            "\n",
            "[%] Downloading Image #1 from http://media.techeblog.com/images/piglet-ice-cream.jpg\n",
            "[%] File Downloaded !\n",
            "\n",
            "[%] Downloading Image #2 from https://editorial.designtaxi.com/news-japikea2711/3.jpg\n",
            "[%] File Downloaded !\n",
            "\n",
            "[%] Downloading Image #3 from https://i.ytimg.com/vi/2H8p2Dxpu_s/maxresdefault.jpg\n",
            "[%] File Downloaded !\n",
            "\n",
            "[%] Downloading Image #4 from https://geekologie.com/2017/04/26/black-soft-serve-ice-cream-5.jpg\n",
            "[%] File Downloaded !\n",
            "\n",
            "[%] Downloading Image #5 from https://i.pinimg.com/736x/bc/9f/95/bc9f9537ab77c67c16ec7ea54aaeae90.jpg\n",
            "[%] File Downloaded !\n",
            "\n",
            "[%] Downloading Image #6 from http://pixel.nymag.com/imgs/daily/grub/2014/07/16/16-ample-hills-gowanus-3.w245.h368.2x.jpg\n",
            "[Error]Invalid image, not saving http://pixel.nymag.com/imgs/daily/grub/2014/07/16/16-ample-hills-gowanus-3.w245.h368.2x.jpg\n",
            "\n",
            "[!] Issue getting: http://pixel.nymag.com/imgs/daily/grub/2014/07/16/16-ample-hills-gowanus-3.w245.h368.2x.jpg\n",
            "[!] Error:: No active exception to reraise\n",
            "[%] Downloading Image #6 from https://www.elanriverdistrict.com/app/uploads/2019/01/ian-dooley-281897-unsplash.jpg\n",
            "[%] File Downloaded !\n",
            "\n",
            "[%] Downloading Image #7 from https://c2.staticflickr.com/4/3357/4602700664_6d9473e26c_b.jpg\n",
            "[%] File Downloaded !\n",
            "\n",
            "[%] Downloading Image #8 from https://photos.costume-works.com/full/the_ice_cream_cone.jpg\n",
            "[%] File Downloaded !\n",
            "\n",
            "[%] Downloading Image #9 from http://media.blogto.com/articles/20170419-hollywoodcone-15.jpg?width=1300&amp;quality=70\n",
            "[%] File Downloaded !\n",
            "\n",
            "[%] Downloading Image #10 from https://www.trialandeater.com/wp-content/uploads/2018/09/Hot-Chocolate-Ice-Cream-Recipe-Trial-and-Eater-11.jpg\n",
            "[%] File Downloaded !\n",
            "\n",
            "[%] Downloading Image #11 from http://cdn.trendhunterstatic.com/thumbs/magnum-campaign.jpeg\n",
            "[%] File Downloaded !\n",
            "\n",
            "\n",
            "\n",
            "[!!]Indexing page: 2\n",
            "\n",
            "[%] Indexed 12 Images on Page 2.\n",
            "\n",
            "===============================================\n",
            "\n",
            "[%] Downloading Image #12 from https://www.niskayunareformed.org/wp-content/uploads/2019/06/0575c5e8-kawaii-ice-cream-cones-pc.jpg\n",
            "[%] File Downloaded !\n",
            "\n",
            "[%] Downloading Image #13 from http://coolcreativity.com/wp-content/uploads/2014/06/diy-delicious-bread-cone-10.jpg\n",
            "[%] File Downloaded !\n",
            "\n",
            "[%] Downloading Image #14 from https://www.ledolci.com/wp-content/uploads/2017/07/DSC1783.jpg\n",
            "[%] File Downloaded !\n",
            "\n",
            "[%] Downloading Image #15 from http://cdn.onlyinyourstate.com/wp-content/uploads/2017/05/custard-corner-ice-cream.jpg\n",
            "[%] File Downloaded !\n",
            "\n",
            "[%] Downloading Image #16 from https://www.doyouremember.co.uk/uploads/W2YrgIV811138666_467075566790990_8064308684721678494_n.jpg\n",
            "[Error]Invalid image, not saving https://www.doyouremember.co.uk/uploads/W2YrgIV811138666_467075566790990_8064308684721678494_n.jpg\n",
            "\n",
            "[!] Issue getting: https://www.doyouremember.co.uk/uploads/W2YrgIV811138666_467075566790990_8064308684721678494_n.jpg\n",
            "[!] Error:: No active exception to reraise\n",
            "[%] Downloading Image #16 from https://i.pinimg.com/736x/ea/ea/77/eaea7717bb08455063a7d871ed8098cb.jpg\n",
            "[%] File Downloaded !\n",
            "\n",
            "[%] Downloading Image #17 from https://www.peters.com.au/wp-content/uploads/2020/05/Drumstick_ClassicVanilla_HW.png\n",
            "[%] File Downloaded !\n",
            "\n",
            "[%] Downloading Image #18 from https://vignette.wikia.nocookie.net/portalworldsgame/images/4/46/Ice_Cream_Cone.png/revision/latest?cb=20190611093344\n",
            "[%] File Downloaded !\n",
            "\n",
            "[%] Downloading Image #19 from https://www.greetingsisland.com/images/cards/birthday/Ice Cream.jpg\n",
            "[!] Issue getting: https://www.greetingsisland.com/images/cards/birthday/Ice Cream.jpg\n",
            "[!] Error:: URL can't contain control characters. '/images/cards/birthday/Ice Cream.jpg' (found at least ' ')\n",
            "[%] Downloading Image #19 from http://www.intimateweddings.com/wp-content/uploads/2011/04/french-fry-cones.jpg\n",
            "[%] File Downloaded !\n",
            "\n",
            "[%] Downloading Image #20 from https://littlebitsof.com/wp-content/uploads/2014/04/DSC_0182.jpg\n",
            "[%] File Downloaded !\n",
            "\n",
            "[%] Downloading Image #21 from https://www.justataste.com/wp-content/uploads/2017/05/rainbow-dipped-waffle-cones.jpg\n",
            "[%] File Downloaded !\n",
            "\n",
            "\n",
            "\n",
            "[!!]Indexing page: 3\n",
            "\n",
            "[%] Indexed 11 Images on Page 3.\n",
            "\n",
            "===============================================\n",
            "\n",
            "[%] Downloading Image #22 from http://cdn.onlyinyourstate.com/wp-content/uploads/2017/05/custard-corner-ice-cream.jpg\n",
            "[%] File Downloaded !\n",
            "\n",
            "[%] Downloading Image #23 from https://www.justataste.com/wp-content/uploads/2017/05/rainbow-dipped-waffle-cones.jpg\n",
            "[%] File Downloaded !\n",
            "\n",
            "[%] Downloading Image #24 from https://www.peters.com.au/wp-content/uploads/2020/05/Drumstick_ClassicVanilla_HW.png\n",
            "[%] File Downloaded !\n",
            "\n",
            "[%] Downloading Image #25 from http://www.intimateweddings.com/wp-content/uploads/2011/04/french-fry-cones.jpg\n",
            "[%] File Downloaded !\n",
            "\n",
            "[%] Downloading Image #26 from https://vignette.wikia.nocookie.net/portalworldsgame/images/4/46/Ice_Cream_Cone.png/revision/latest?cb=20190611093344\n",
            "[%] File Downloaded !\n",
            "\n",
            "[%] Downloading Image #27 from https://i.pinimg.com/736x/ea/ea/77/eaea7717bb08455063a7d871ed8098cb.jpg\n",
            "[%] File Downloaded !\n",
            "\n",
            "[%] Downloading Image #28 from https://littlebitsof.com/wp-content/uploads/2014/04/DSC_0182.jpg\n",
            "[%] File Downloaded !\n",
            "\n",
            "[%] Downloading Image #29 from http://coolcreativity.com/wp-content/uploads/2014/06/diy-delicious-bread-cone-10.jpg\n",
            "[%] File Downloaded !\n",
            "\n",
            "[%] Downloading Image #30 from https://www.ledolci.com/wp-content/uploads/2017/07/DSC1783.jpg\n",
            "[%] File Downloaded !\n",
            "\n",
            "\n",
            "\n",
            "[%] Done. Downloaded 30 images.\n",
            "\n",
            "===============================================\n",
            "\n"
          ],
          "name": "stdout"
        }
      ]
    },
    {
      "cell_type": "code",
      "metadata": {
        "id": "ijOKDT2cXQB5"
      },
      "source": [
        "import os\n",
        "import matplotlib.pyplot as plt\n",
        "import numpy as np\n",
        "from skimage.io import imread\n",
        "from skimage.transform import resize\n",
        "\n",
        "target = []\n",
        "images = []\n",
        "flat_data =[]\n",
        "\n",
        "DATADIR = '/content/imagesnew'\n",
        "CATEGORIES = ['pretty sunflower','rugby ball leather','ice cream cone']\n",
        "\n",
        "for category in CATEGORIES:\n",
        "  class_num = CATEGORIES.index(category)\n",
        "  #print(class_num)\n",
        "  path = os.path.join(DATADIR,category)\n",
        "  #print(path)\n",
        "  for img in os.listdir(path):\n",
        "    img_array = imread(os.path.join(path,img))\n",
        "    #print(img_array.shape)\n",
        "    img_resized = resize(img_array,(150,150,3))\n",
        "    #print(img_resized)\n",
        "    flat_data.append(img_resized.flatten()) \n",
        "    #flat_data = img_resized.flatten()\n",
        "    #print(flat_data)\n",
        "    #flat_data.append(flat_data) error\n",
        "    images.append(img_resized)\n",
        "    target.append(class_num)\n",
        "\n",
        "flat_data = np.array(flat_data)\n",
        "target = np.array(target)\n",
        "images = np.array(images)"
      ],
      "execution_count": 6,
      "outputs": []
    },
    {
      "cell_type": "code",
      "metadata": {
        "colab": {
          "base_uri": "https://localhost:8080/",
          "height": 282
        },
        "id": "Oul780_HXeqZ",
        "outputId": "acc59314-0cfc-4be2-82eb-dccfb51c32c7"
      },
      "source": [
        "target\n",
        "flat_data[0]\n",
        "unique,count = np.unique(target,return_counts=True)\n",
        "plt.bar(CATEGORIES , count)"
      ],
      "execution_count": 7,
      "outputs": [
        {
          "output_type": "execute_result",
          "data": {
            "text/plain": [
              "<BarContainer object of 3 artists>"
            ]
          },
          "metadata": {
            "tags": []
          },
          "execution_count": 7
        },
        {
          "output_type": "display_data",
          "data": {
            "image/png": "[encoded data removed]",
            "text/plain": [
              "<Figure size 432x288 with 1 Axes>"
            ]
          },
          "metadata": {
            "tags": [],
            "needs_background": "light"
          }
        }
      ]
    },
    {
      "cell_type": "code",
      "metadata": {
        "id": "k6t2d1AlXoFs"
      },
      "source": [
        "from sklearn.model_selection import train_test_split\n",
        "x_train,x_test,y_train,y_test = train_test_split(flat_data , target,test_size=0.3,random_state=109)"
      ],
      "execution_count": 8,
      "outputs": []
    },
    {
      "cell_type": "code",
      "metadata": {
        "colab": {
          "base_uri": "https://localhost:8080/"
        },
        "id": "aF5H9X1YXsg-",
        "outputId": "dff2616e-f9cb-4857-d7b5-7efdf7d386ad"
      },
      "source": [
        "from sklearn.model_selection import GridSearchCV\n",
        "from sklearn import svm\n",
        "param_grid = [\n",
        "              { 'C':[1,10,100,1000],'kernel':['linear']},\n",
        "              { 'C':[1,10,100,1000],'gamma':[0.001,0.0001] , 'kernel':['rbf']},\n",
        "]\n",
        "svc = svm.SVC(probability=True)\n",
        "clf = GridSearchCV(svc,param_grid)\n",
        "clf.fit(x_train,y_train)"
      ],
      "execution_count": 9,
      "outputs": [
        {
          "output_type": "execute_result",
          "data": {
            "text/plain": [
              "GridSearchCV(cv=None, error_score=nan,\n",
              "             estimator=SVC(C=1.0, break_ties=False, cache_size=200,\n",
              "                           class_weight=None, coef0=0.0,\n",
              "                           decision_function_shape='ovr', degree=3,\n",
              "                           gamma='scale', kernel='rbf', max_iter=-1,\n",
              "                           probability=True, random_state=None, shrinking=True,\n",
              "                           tol=0.001, verbose=False),\n",
              "             iid='deprecated', n_jobs=None,\n",
              "             param_grid=[{'C': [1, 10, 100, 1000], 'kernel': ['linear']},\n",
              "                         {'C': [1, 10, 100, 1000], 'gamma': [0.001, 0.0001],\n",
              "                          'kernel': ['rbf']}],\n",
              "             pre_dispatch='2*n_jobs', refit=True, return_train_score=False,\n",
              "             scoring=None, verbose=0)"
            ]
          },
          "metadata": {
            "tags": []
          },
          "execution_count": 9
        }
      ]
    },
    {
      "cell_type": "code",
      "metadata": {
        "colab": {
          "base_uri": "https://localhost:8080/"
        },
        "id": "I1YmLLxVYTnd",
        "outputId": "df0ac00d-0027-404a-d695-4b898fbafcd2"
      },
      "source": [
        "y_pred = clf.predict(x_test)\n",
        "y_pred"
      ],
      "execution_count": 10,
      "outputs": [
        {
          "output_type": "execute_result",
          "data": {
            "text/plain": [
              "array([1, 2, 2, 2, 2, 1, 0, 0, 1, 0, 1, 0, 1, 0, 0, 1, 0, 2, 2, 1, 0, 2,\n",
              "       2, 0, 0, 0, 1])"
            ]
          },
          "metadata": {
            "tags": []
          },
          "execution_count": 10
        }
      ]
    },
    {
      "cell_type": "code",
      "metadata": {
        "colab": {
          "base_uri": "https://localhost:8080/"
        },
        "id": "ebGKpmYXYXT6",
        "outputId": "730e545d-a6e8-4541-91bf-6c73be4b2f4d"
      },
      "source": [
        "y_test"
      ],
      "execution_count": 11,
      "outputs": [
        {
          "output_type": "execute_result",
          "data": {
            "text/plain": [
              "array([1, 0, 1, 2, 2, 1, 0, 1, 1, 0, 1, 0, 1, 2, 2, 1, 2, 1, 0, 1, 2, 2,\n",
              "       2, 0, 0, 0, 1])"
            ]
          },
          "metadata": {
            "tags": []
          },
          "execution_count": 11
        }
      ]
    },
    {
      "cell_type": "code",
      "metadata": {
        "id": "wa7P7A0CYaLY"
      },
      "source": [
        "from sklearn.metrics import accuracy_score,confusion_matrix"
      ],
      "execution_count": 12,
      "outputs": []
    },
    {
      "cell_type": "code",
      "metadata": {
        "colab": {
          "base_uri": "https://localhost:8080/"
        },
        "id": "FHyCmpRhYdTk",
        "outputId": "1d1ef7ec-2a2d-4a3d-9bf6-5270ab1cb2f4"
      },
      "source": [
        "accuracy_score(y_pred,y_test)"
      ],
      "execution_count": 13,
      "outputs": [
        {
          "output_type": "execute_result",
          "data": {
            "text/plain": [
              "0.6666666666666666"
            ]
          },
          "metadata": {
            "tags": []
          },
          "execution_count": 13
        }
      ]
    },
    {
      "cell_type": "code",
      "metadata": {
        "colab": {
          "base_uri": "https://localhost:8080/"
        },
        "id": "4hBxQ1-lYgCd",
        "outputId": "9009794a-5fdd-43fb-d950-218fa05c9b88"
      },
      "source": [
        "confusion_matrix(y_pred,y_test)"
      ],
      "execution_count": 14,
      "outputs": [
        {
          "output_type": "execute_result",
          "data": {
            "text/plain": [
              "array([[6, 1, 4],\n",
              "       [0, 8, 0],\n",
              "       [2, 2, 4]])"
            ]
          },
          "metadata": {
            "tags": []
          },
          "execution_count": 14
        }
      ]
    },
    {
      "cell_type": "code",
      "metadata": {
        "id": "_LgBAzJ-Yiq8"
      },
      "source": [
        "import pickle\n",
        "pickle.dump(clf,open('img_model.p' , 'wb'))"
      ],
      "execution_count": 15,
      "outputs": []
    },
    {
      "cell_type": "code",
      "metadata": {
        "id": "FI2NFu20Ypgj"
      },
      "source": [
        "model = pickle.load(open('img_model.p' ,'rb'))"
      ],
      "execution_count": null,
      "outputs": []
    },
    {
      "cell_type": "code",
      "metadata": {
        "id": "S3GDoFFHYt3Y"
      },
      "source": [
        "flat_data = []\n",
        "url = input('Enter your URL')\n",
        "img = imread(url)\n",
        "img_resized = resize(img,(150,150,3))\n",
        "flat_data.append(img_resized.flatten())\n",
        "flat_data = np.array(flat_data)\n",
        "print(img.shape)\n",
        "plt.imshow(img_resized)\n",
        "y_out = model.predict(flat_data)\n",
        "y_out = CATEGORIES[y_out[0]]\n",
        "print(f'PREDICTED OUTPUT: {y_out}')\n"
      ],
      "execution_count": null,
      "outputs": []
    }
  ]
}